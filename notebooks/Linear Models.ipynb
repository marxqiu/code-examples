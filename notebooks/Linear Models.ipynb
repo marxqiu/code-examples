{
 "cells": [
  {
   "cell_type": "code",
   "execution_count": 3,
   "metadata": {},
   "outputs": [],
   "source": [
    "import numpy as np\n",
    "import matplotlib.pyplot as plt\n",
    "import scipy.linalg as la\n",
    "import scipy"
   ]
  },
  {
   "cell_type": "markdown",
   "metadata": {},
   "source": [
    "## Linear Models\n",
    "\n",
    "A standard problem in statistics to solve the multivariate linear regression problem.\n",
    "\\begin{equation}\n",
    "y = X * \\beta + \\epsilon\n",
    "\\end{equation}\n",
    "The above notation is standard in statistics, but in our discussion (and codes) we will replace $\\beta$ with `b`\n",
    "```\n",
    "y = X * b + eps.\n",
    "```\n",
    "`X` is known as the [design matrix](https://en.wikipedia.org/wiki/Design_matrix), and consists of `n` rows of observations, each of which has `p` features (so it is an $n\\times p$ matrix).  `y` is a vector of `n` responses.  `b` is an unknown vector of `p` coefficients which we would like to find.  `eps` (epsilon) is a vector of length `n` with random noise, typically i.i.d. normally distributed with variance `sig` (sigma).\n",
    "\n",
    "In numpy notation, we could express this as\n",
    "```python\n",
    "y[i] = np.dot(X[i], b) + sig * np.random.randn()\n",
    "```\n",
    "\n",
    "We want to determine `b`, so that when me make a new observation `X[n]` we can predict the response `y[n]`.  One way to do this is to minimize the mean square error\n",
    "\n",
    "\\begin{equation}\n",
    "\\mathop{\\mathsf{minimize}}_b \\mathbb{E}((X[n]*b - y[n])^2)\n",
    "\\end{equation}\n",
    "\n",
    "The solution to this is the solution to the least squares problem\n",
    "\\begin{equation}\n",
    "\\mathop{\\mathsf{minimize}}_b \\frac{1}{n} \\|X*b - y\\|_2^2\n",
    "\\end{equation}\n",
    "\n",
    "Where $n$ is the number of rows in $X$.  We'll let the solution to the problem be denoted $\\hat{b}$, or `bhat`."
   ]
  },
  {
   "cell_type": "markdown",
   "metadata": {},
   "source": [
    "## Problem 0 - Linear Regression (37 points)\n",
    "\n",
    "There are a variety of ways to solve the above problem.  We will assume that $n > p$, meaning there are more observations than features.\n",
    "\n",
    "### Part A: Generating Data (5 points)\n",
    "\n",
    "Write a function `gen_lstsq(n, p, sig=0.1)` which will generate a linear least squares problem (return `X`, `y`, and `b` as described above).  `b` is the \"ground truth\" coefficients that we are looking for.  You can generate the matrix `X` using `np.random.randn`, and generate `b` using `np.random.randn` as well. \n"
   ]
  },
  {
   "cell_type": "code",
   "execution_count": 4,
   "metadata": {},
   "outputs": [],
   "source": [
    "def gen_lstsq(n, p, sig=0.1):\n",
    "    \"\"\"\n",
    "    generate a linear least squares problem\n",
    "    \"\"\"\n",
    "    \n",
    "    # design matrix\n",
    "    X = np.random.rand(n, p)\n",
    "    \n",
    "    # coefficients\n",
    "    b = np.random.rand(p, 1)\n",
    "    \n",
    "    # add random noises\n",
    "    y = X @ b + sig * np.random.randn(n, 1)\n",
    "    \n",
    "    return X, y, b"
   ]
  },
  {
   "cell_type": "markdown",
   "metadata": {},
   "source": [
    "### Part B: QR factorization (3 points)\n",
    "\n",
    "If we form a QR factorization $X = QR$, we can find $\\hat{b} = R^{-1} Q^T y$.\n",
    "\n",
    "Write a function `solve_lstsq_qr(X, y)` which estimates `b` using the QR factorization as above. "
   ]
  },
  {
   "cell_type": "code",
   "execution_count": 9,
   "metadata": {},
   "outputs": [],
   "source": [
    "def solve_lstsq_qr(X, y):\n",
    "    \"\"\"\n",
    "    solve linear model using QR\n",
    "    \"\"\"\n",
    "    \n",
    "    Q, R = la.qr(X, mode='economic')\n",
    "    bhat = la.solve_triangular(R, Q.T @ y, lower=False)\n",
    "    \n",
    "    return bhat"
   ]
  },
  {
   "cell_type": "markdown",
   "metadata": {},
   "source": [
    "### Part C: Normal Equations (3 points)\n",
    "\n",
    "Often, this is the way statistics textbooks solve the problem: $\\hat{b} = (X^T X)^{-1} X^T y$.  This is based on the normal equation $X^T X \\hat{b} = X^T y$.\n",
    "\n",
    "Write a function `solve_lstsq_normal(X, y)` which estimates `b` using the normal equations above. Note that forming the full inverse would be slow and unstable. Instead, you should try to apply $(X^TX)^{-1}$ by forming a Cholesky factorization instead."
   ]
  },
  {
   "cell_type": "code",
   "execution_count": 10,
   "metadata": {},
   "outputs": [],
   "source": [
    "def solve_lstsq_normal(X, y):\n",
    "    \"\"\"\n",
    "    solve linear model using normal equations\n",
    "    \"\"\"\n",
    "    \n",
    "    L = la.cholesky(X.T @ X, lower=True)\n",
    "    \n",
    "    bhat = la.solve_triangular(\n",
    "        L.T,\n",
    "        la.solve_triangular(\n",
    "            L,\n",
    "            X.T @ y,\n",
    "            lower=True\n",
    "        ),\n",
    "        lower=False\n",
    "    )\n",
    "    \n",
    "    return bhat\n",
    "    "
   ]
  },
  {
   "cell_type": "markdown",
   "metadata": {},
   "source": [
    "### Part D: Check Your Work (3 points)\n",
    "\n",
    "Generate a few random problems to test that `solve_lstsq_qr` and `solve_lstsq_normal` give the same prediction $\\hat{b}$ (measure $\\|\\hat{b}_{qr} - \\hat{b}_{normal}\\|_2$ and check it is smaller than `1e-4`).  Use $n > p$.  Check against `solve_lstsq` in numpy or scipy as well."
   ]
  },
  {
   "cell_type": "code",
   "execution_count": 46,
   "metadata": {
    "scrolled": false
   },
   "outputs": [
    {
     "data": {
      "text/plain": [
       "Text(0, 0.5, 'errors')"
      ]
     },
     "execution_count": 46,
     "metadata": {},
     "output_type": "execute_result"
    },
    {
     "data": {
      "image/png": "[encoded data removed]",
      "text/plain": [
       "<Figure size 640x480 with 1 Axes>"
      ]
     },
     "metadata": {},
     "output_type": "display_data"
    }
   ],
   "source": [
    "# generate random problems\n",
    "ns = [10, 20, 50, 100, 1000]\n",
    "ps = [5, 10, 25, 50, 500]\n",
    "errors = []\n",
    "\n",
    "for n, p in zip(ns, ps):\n",
    "    \n",
    "    X, y, b = gen_lstsq(n, p)\n",
    "    \n",
    "    # solve for bhat\n",
    "    bhat_qr = solve_lstsq_qr(X, y)\n",
    "    bhat_normal = solve_lstsq_normal(X, y)\n",
    "    bhat_scipy = la.lstsq(X, y)[0]\n",
    "    \n",
    "    errors.append([la.norm(bhat_qr - bhat_normal),\n",
    "                   la.norm(bhat_qr - bhat_scipy),\n",
    "                   la.norm(bhat_normal - bhat_scipy)])\n",
    "\n",
    "# prepare for plotting\n",
    "errors_between = [i[0] for i in errors]\n",
    "errors_qr = [i[1] for i in errors]\n",
    "errors_normal = [i[2] for i in errors]\n",
    "\n",
    "plt.scatter(range(5), errors_between, label='difference between qr and normal')\n",
    "plt.scatter(range(5),errors_qr, label='errors of qr')\n",
    "plt.scatter(range(5),errors_normal, label='errors of normal')\n",
    "plt.axhline(y=1e-4, color='r')\n",
    "plt.yscale('log')\n",
    "plt.title(\"Errors analysis of qr and normal\")\n",
    "plt.xticks([])\n",
    "plt.legend()\n",
    "plt.xlabel(\"different random problems\")\n",
    "plt.ylabel(\"errors\")"
   ]
  },
  {
   "cell_type": "markdown",
   "metadata": {},
   "source": [
    "As we can see all errors are below 10^-4, so we can say all algorithms are performing as expected."
   ]
  },
  {
   "cell_type": "markdown",
   "metadata": {},
   "source": [
    "### Part E: Estimate the Error (6 points)\n",
    "\n",
    "Write a function `err` which estimates the error in your fit using the equation $\\frac{1}{n}\\|X * \\hat{b} - y\\|_2^2$. The function should have the call signature `err(X,y,bhat).` \n",
    "\n",
    "Create a plot of the error vs the noise parameter `sig` (i.e. use your code from the previous parts to generate $y,$ $\\hat{b},$ and $X$ for various $\\sigma \\in[10^{-4},10]$ and use `err` to compute the corresponding error).  Use `n=100`, `p=50` when generating data.  Put your plot on log-log axes.  Give it a title and axis labels.\n",
    "\n",
    "As above, you should generate `X` to be `N x p` using `np.random.randn`, and set `y = X * b + sig * np.random.randn(p)`. Note: when choosing `sig` on $[10^{-4},10]$ it would help if you gave them a logarithmic distribution (like taking equispaced points $t_0,\\dots,t_N$ between -4 and 1, and setting $\\sigma_0 =10^{t_0},\\dots, \\sigma_N = 10^{t_n}.$\n",
    "\n",
    "Try to make smoother plots by averaging the error over several trials.\n"
   ]
  },
  {
   "cell_type": "code",
   "execution_count": 55,
   "metadata": {},
   "outputs": [
    {
     "data": {
      "image/png": "[encoded data removed]",
      "text/plain": [
       "<Figure size 640x480 with 1 Axes>"
      ]
     },
     "metadata": {},
     "output_type": "display_data"
    }
   ],
   "source": [
    "def err(X, y, bhat):\n",
    "    \"\"\"\n",
    "    estimates the error in the fit\n",
    "    \"\"\"\n",
    "    \n",
    "    return (1/len(y)) * (la.norm(X @ bhat - y)**2)\n",
    "\n",
    "\n",
    "sigs = np.logspace(-4, 1, num=50)\n",
    "errs_qr = []\n",
    "errs_normal = []\n",
    "\n",
    "for sig in sigs:\n",
    "    error_qr = 0\n",
    "    error_normal = 0\n",
    "    \n",
    "    # averaging over 5 runs\n",
    "    for i in range(5):\n",
    "        X, y, b = gen_lstsq(100, 50, sig=sig)\n",
    "        bhat_qr = solve_lstsq_qr(X, y)\n",
    "        error_qr += err(X, y, bhat_qr)\n",
    "        bhat_normal = solve_lstsq_normal(X, y)\n",
    "        error_normal += err(X, y, bhat_normal)\n",
    "        \n",
    "    errs_qr.append(error_qr/5)\n",
    "    errs_normal.append(error_normal/5)\n",
    "    \n",
    "\n",
    "plt.loglog(sigs, errs_qr, label='qr', linestyle=':', alpha=0.7, color='red')\n",
    "plt.loglog(sigs, errs_normal, label='normal', linestyle='-', alpha=0.7)\n",
    "plt.title(\"error in the fit vs the noise parameter sig\")\n",
    "plt.xlabel(\"sig\")\n",
    "plt.ylabel(\"errors\")\n",
    "plt.legend()\n",
    "plt.show()"
   ]
  },
  {
   "cell_type": "markdown",
   "metadata": {},
   "source": [
    "### Part F: Discussion (10 points)\n",
    "\n",
    "Which of `solve_lstsq_qr` and `solve_lstsq_normal` is faster?  Give a justification for your answer (e.g. in terms of what you know about time to compute matrix multiplication and factorizations as a function of $n$ and $p$).\n",
    "\n",
    "Suppose that $\\kappa(X)$ is large. Which of `solve_lstsq_qr` and `solve_lstsq_normal` will be more stable? i.e. which of $\\hat{b} = R^{-1} Q^T y$ and $\\hat{b} = (X^T X)^{-1} X^T y$ has a smaller condition number? Use the fact that the matrix condition number satisfies\n",
    "$$\n",
    "\\kappa(A^{-1}) = \\kappa(A), \\qquad \\kappa(A^T) = \\kappa(A), \\qquad \\kappa(AB) \\approx \\kappa(A)\\kappa(B),\n",
    "$$\n",
    "and that\n",
    "$$\n",
    "\\kappa(Q) = 1\n",
    "$$\n",
    "because the columns of $Q$ are orthonormal. You should also use the fact that for most $A$ and $B$\n",
    "$$\n",
    "\\kappa(AB) \\approx \\kappa(A)\\kappa(B).\n",
    "$$\n",
    "Note that there are counter examples, e.g. $1=\\kappa(I)=\\kappa(AA^{-1})< \\kappa(A)\\kappa(A^{-1})=\\kappa(A)^2$ whenever $\\kappa(A)>1$."
   ]
  },
  {
   "cell_type": "markdown",
   "metadata": {},
   "source": [
    "1. The complexity of QR decomposition is $O(n \\cdot p^2)$ and matrix multiplication is $O(np)$. Then solving $Rb = Q^{\\mathrm{T}}y$ has the cost of solving a triangular system $O(p^2)$. The overall computational complexity is $O(n \\cdot p^2) + O(p^2) + O(np)$. \n",
    "\n",
    "The complexity of Cholesky factorizatioin is $O(p^3)$ and the matrix multiplication is $O(p^2 \\cdot n)$. The cost of solving a triangular system is $O(p^2)$ and $X^{\\mathrm{T}} y$ costs $O(np)$. The overall computational complexity is $O(p^2 \\cdot n) + O(p^2) + O(p^3) + O(np)$ \n",
    "\n",
    "Based on my analysis, QR decomposition is faster.\n",
    "\n",
    "2. $\\kappa(R^{-1}Q^{\\mathrm{T}}) \\approx \\kappa(R^{-1})\\kappa(Q) = \\kappa(R) = \\kappa(X)$\n",
    "\n",
    "$\\kappa\\left(\\left(X^T X\\right)^{-1} X^T\\right)=\\kappa\\left(\\left(X^T X\\right)^{-1}\\right) \\kappa\\left(X^T\\right) \\approx \\kappa\\left(X^T X\\right) \\kappa\\left(X^T\\right) = \\kappa(X)^2\\kappa(X) = \\kappa(X)^3$\n",
    "\n",
    "Thus QR decomposition has smaller condition number if we suppose $\\kappa(X)$ is large, so it's more stable."
   ]
  },
  {
   "cell_type": "markdown",
   "metadata": {},
   "source": [
    "### Part G: Optimization (5 points)\n",
    "\n",
    "Solve the minimization problem \n",
    "\\begin{equation}\n",
    "\\mathop{\\mathsf{minimize}}_b \\frac{1}{n}\\|X*b - y\\|_2^2\n",
    "\\end{equation}\n",
    "\n",
    "using `scipy.optimize.minimize`.  Wrap this in a function `solve_lstsq_opt(X, y)`.  Note that you can define the objective function inside `solve_lstsq_opt`\n",
    "\n",
    "**Jacobian**: you should implement the Jacobian of the objective function to use in the optimization problem.  Here's a derivation:  We'd like to minimize the objective function\n",
    "\\begin{equation}\n",
    "n f(b) = \\|X*b - y\\|_2^2 = (Xb - y)^T (Xb - y) = b^T X^T X b - 2 y^T X b + y^T y\n",
    "\\end{equation}\n",
    "\n",
    "We might write the above expression as\n",
    "\\begin{equation}\n",
    "n f(b) \\sum_{i,j} b_i (X^T X)_{i,j} b_j - 2\\sum_{j,i} y_i X_{i,j} b_j + y^T y\n",
    "\\end{equation}\n",
    "\n",
    "We can take a derivative with respect to $b_j$\n",
    "\\begin{equation}\n",
    "n \\frac{\\partial f}{\\partial b_j} = \\sum_{i\\ne j} b_i (X^T X)_{i,j} + \\sum_{i\\ne j} (X^T X)_{j,i} b_i + 2 (X^T X)_{j,j} b_j  - 2\\sum_{i} y_i X_{i,j}\n",
    "\\end{equation}\n",
    "\n",
    "Putting this in matrix form, we obtain\n",
    "\\begin{equation}\n",
    "J_f(b) =  \\frac{1}{n}\\big( b^T (X^T X) + b^T (X^T X)^T - 2y^T X\\big) = \\frac{2}{n} b^T (X^T X) -\\frac{2}{n}y^T X\n",
    "\\end{equation}\n",
    "\n",
    "So we can write $J_f(b) = \\frac{2}{n} b^T (X^T X) -\\frac{2}{n} y^T X$"
   ]
  },
  {
   "cell_type": "code",
   "execution_count": 203,
   "metadata": {},
   "outputs": [],
   "source": [
    "import scipy.optimize as opt\n",
    "\n",
    "def solve_lstsq_opt(X, y):\n",
    "    \"\"\"\n",
    "    solve the minimization problem using optimization\n",
    "    \"\"\"\n",
    "    \n",
    "    n, p = X.shape\n",
    "    f = lambda b: (1/n) * np.sum((X @ b.reshape(-1, 1) - y)**2)\n",
    "    Jf = lambda b: (2/n) * (b.reshape(1, -1) @ (X.T @ X) - y.T @ X).ravel()\n",
    "    \n",
    "    sol = opt.minimize(f, np.zeros(p), jac=Jf)\n",
    "    \n",
    "    return sol.x.reshape(-1,1)\n",
    "\n",
    "\n"
   ]
  },
  {
   "cell_type": "markdown",
   "metadata": {},
   "source": [
    "#### Check Your Work\n",
    "\n",
    "Generate a few random problems to test that `solve_lstsq_opt` agrees with `solve_lstsq_qr` and `solve_lstsq_normal` in part A.  Use the same tolerance for checking."
   ]
  },
  {
   "cell_type": "code",
   "execution_count": 209,
   "metadata": {
    "scrolled": true
   },
   "outputs": [
    {
     "data": {
      "text/plain": [
       "Text(0, 0.5, 'errors')"
      ]
     },
     "execution_count": 209,
     "metadata": {},
     "output_type": "execute_result"
    },
    {
     "data": {
      "image/png": "[encoded data removed]",
      "text/plain": [
       "<Figure size 640x480 with 1 Axes>"
      ]
     },
     "metadata": {},
     "output_type": "display_data"
    }
   ],
   "source": [
    "ns = [10, 20, 50]\n",
    "ps = [5, 10, 15]\n",
    "errors_qr = []\n",
    "errors_normal = []\n",
    "\n",
    "for n, p in zip(ns, ps):\n",
    "    X, y, b = gen_lstsq(n, p)\n",
    "    \n",
    "    bhat_opt = solve_lstsq_opt(X, y)\n",
    "    bhat_qr = solve_lstsq_qr(X, y)\n",
    "    bhat_normal = solve_lstsq_normal(X, y)\n",
    "    \n",
    "    errors_qr.append(la.norm(bhat_opt - bhat_qr))\n",
    "    errors_normal.append(la.norm(bhat_opt - bhat_normal))\n",
    "    \n",
    "plt.scatter(range(len(ns)), errors_normal, label='difference between opt and normal')\n",
    "plt.scatter(range(len(ns)), errors_qr, label='difference between opt and qr')\n",
    "plt.axhline(y=1e-4, color='r')\n",
    "plt.yscale('log')\n",
    "plt.title(\"Errors analysis of qr and normal\")\n",
    "plt.xticks([])\n",
    "plt.legend()\n",
    "plt.xlabel(\"different random problems\")\n",
    "plt.ylabel(\"errors\")"
   ]
  },
  {
   "cell_type": "markdown",
   "metadata": {},
   "source": [
    "Opt is not very stable and sometimes differs a lot (>1e4) from the other two."
   ]
  },
  {
   "cell_type": "markdown",
   "metadata": {},
   "source": [
    "### Part H: Discussion (2 points)\n",
    "\n",
    "How fast is `solve_lstsq_opt` compared to the functions you wrote in part A?  Give some justification for what you see."
   ]
  },
  {
   "cell_type": "code",
   "execution_count": 188,
   "metadata": {},
   "outputs": [
    {
     "name": "stdout",
     "output_type": "stream",
     "text": [
      "CPU times: user 219 ms, sys: 2.93 ms, total: 222 ms\n",
      "Wall time: 225 ms\n"
     ]
    }
   ],
   "source": [
    "%%time\n",
    "for i in range(50):\n",
    "    X, y, b = gen_lstsq(100, 50)\n",
    "    solve_lstsq_opt(X, y)"
   ]
  },
  {
   "cell_type": "code",
   "execution_count": 189,
   "metadata": {},
   "outputs": [
    {
     "name": "stdout",
     "output_type": "stream",
     "text": [
      "CPU times: user 21.7 ms, sys: 1.85 ms, total: 23.5 ms\n",
      "Wall time: 23.1 ms\n"
     ]
    }
   ],
   "source": [
    "%%time\n",
    "for i in range(50):\n",
    "    X, y, b = gen_lstsq(100, 50)\n",
    "    solve_lstsq_qr(X, y)"
   ]
  },
  {
   "cell_type": "code",
   "execution_count": 190,
   "metadata": {},
   "outputs": [
    {
     "name": "stdout",
     "output_type": "stream",
     "text": [
      "CPU times: user 12.4 ms, sys: 2.46 ms, total: 14.8 ms\n",
      "Wall time: 24.9 ms\n"
     ]
    }
   ],
   "source": [
    "%%time\n",
    "for i in range(50):\n",
    "    X, y, b = gen_lstsq(100, 50)\n",
    "    solve_lstsq_normal(X, y)"
   ]
  },
  {
   "cell_type": "markdown",
   "metadata": {},
   "source": [
    "Optimization is significantly slower compared to the other two methods; it takes 10 times longer than both the normal and QR methods"
   ]
  },
  {
   "cell_type": "markdown",
   "metadata": {},
   "source": [
    "## Problem 1 - Ridge Regression (13 points)\n",
    "\n",
    "We'll now turn to the problem of what to do when `n < p` (there are now fewer observations than features).  In this case we can find a $b$ which satisfies the equation $X * b = y$ exactly, but there are many possible values of $b$ which can satisfy the equation.\n",
    "\n",
    "As we discussed in class, we can change the problem to try to make it unique. One simple way of doing this is to add an additional term to our optimization problem. Ridge regression is one such approach.\n",
    "\n",
    "Ridge regression seeks to solve the following optimization problem:\n",
    "\n",
    "\\begin{equation}\n",
    "\\mathop{\\mathsf{minimize}}_b \\frac{1}{n}\\|X*b - y\\|_2^2 + \\lambda \\|b\\|_2^2\n",
    "\\end{equation}\n",
    "\n",
    "$\\lambda$ is a parameter you can choose to \"regularize\" the problem which you can choose.\n",
    "\n",
    "### Part A: Optimization (9 points)\n",
    "\n",
    "Use `scipy.optimize.minimize` to minimize the above optimization problem.  Wrap this in a function `solve_ridge_opt(X, y, lam=0.1)` (`lam` should be provided as a keyword argument for the variable $\\lambda$).\n",
    "\n",
    "What is the Jacobian for the objective function for the minimization problem?  Incorporate this into your optimization problem.  Hint: differentiation is linear, so you just need to add a term to the Jacobian in Problem 0 based on the Jacobian of\n",
    "\\begin{equation}\n",
    "\\lambda \\|b\\|_2^2 = \\lambda b^T b = \\lambda \\sum_i b_i^2\n",
    "\\end{equation}\n",
    "\n",
    "---\n"
   ]
  },
  {
   "cell_type": "code",
   "execution_count": 191,
   "metadata": {},
   "outputs": [],
   "source": [
    "def solve_ridge_opt(X, y, lam=0.1):\n",
    "    \"\"\"\n",
    "    solve optimization using ridge\n",
    "    \"\"\"\n",
    "    n, p = X.shape\n",
    "    f = lambda b: (1/n) * np.sum((X @ b.reshape(-1, 1) - y)**2) + lam * np.sum(b**2)\n",
    "    Jf = lambda b: (2/n) * (b.reshape(1, -1) @ (X.T @ X) - y.T @ X).ravel() + 2 * lam * b \n",
    "    \n",
    "    sol = opt.minimize(f, np.zeros(p), jac=Jf)\n",
    "    \n",
    "    return sol.x.reshape(-1,1)"
   ]
  },
  {
   "cell_type": "markdown",
   "metadata": {},
   "source": [
    "### Part B: Compute the error (4 points)\n",
    "\n",
    "Set `n = 50`, `p=100`, and `sig=0.1`.  Make a plot that displays the error of `bhat` computed using `solve_ridge_opt` as `lam` varies between `1e-4` and `1e2` (see Problem 0, Part E).  Use a `semilogx` plot."
   ]
  },
  {
   "cell_type": "code",
   "execution_count": 192,
   "metadata": {
    "scrolled": false
   },
   "outputs": [
    {
     "data": {
      "image/png": "[encoded data removed]",
      "text/plain": [
       "<Figure size 640x480 with 1 Axes>"
      ]
     },
     "metadata": {},
     "output_type": "display_data"
    }
   ],
   "source": [
    "def err(X, y, bhat):\n",
    "    \n",
    "    return (1/len(y)) * (np.linalg.norm(X @ bhat - y)**2)\n",
    "\n",
    "\n",
    "lams = np.logspace(-4, 2, num=50)\n",
    "errs = []\n",
    "\n",
    "for lam in lams:\n",
    "    error = 0\n",
    "    \n",
    "    for i in range(5):\n",
    "        X, y, b = gen_lstsq(50, 100)\n",
    "        bhat_opt = solve_ridge_opt(X, y, lam=lam)\n",
    "        error += err(X, y, bhat_opt)\n",
    "        \n",
    "    errs.append(error/5)\n",
    "\n",
    "plt.semilogx(lams, errs)\n",
    "plt.xlabel('lambda')\n",
    "plt.ylabel('errors')\n",
    "plt.title('Errors vs lambda')\n",
    "plt.show()"
   ]
  }
 ],
 "metadata": {
  "kernelspec": {
   "display_name": "Python 3 (ipykernel)",
   "language": "python",
   "name": "python3"
  },
  "language_info": {
   "codemirror_mode": {
    "name": "ipython",
    "version": 3
   },
   "file_extension": ".py",
   "mimetype": "text/x-python",
   "name": "python",
   "nbconvert_exporter": "python",
   "pygments_lexer": "ipython3",
   "version": "3.10.9"
  }
 },
 "nbformat": 4,
 "nbformat_minor": 4
}
