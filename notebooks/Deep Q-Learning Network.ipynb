{
  "cells": [
    {
      "cell_type": "markdown",
      "metadata": {
        "id": "V3szwJAdaoQa"
      },
      "source": [
        "## Enable rendering OpenAI Gym environments from CoLab\n",
        "\n",
        "In this assignemnt, We will use [OpenAI Gym](https://gym.openai.com/) for rendering game envionment for our agent to play and learn. It is possible and important to visualize the game your agent is playing, even on Colab. This section imports the necessary package and functions needed to generate a video in Colab. The video processing steps credit to [here](https://colab.research.google.com/drive/1flu31ulJlgiRL1dnN2ir8wGh9p7Zij2t)."
      ]
    },
    {
      "cell_type": "code",
      "execution_count": 97,
      "metadata": {
        "colab": {
          "base_uri": "https://localhost:8080/"
        },
        "id": "M9fFfA-gb8oC",
        "outputId": "12769afa-03b2-4b77-859b-0e54ea9bf819"
      },
      "outputs": [
        {
          "name": "stdout",
          "output_type": "stream",
          "text": [
            "Requirement already satisfied: setuptools in /usr/local/lib/python3.7/dist-packages (62.0.0)\n"
          ]
        }
      ],
      "source": [
        "# You will need to run this block twice to make it effective\n",
        "!apt-get update > /dev/null 2>&1\n",
        "!apt-get install cmake > /dev/null 2>&1\n",
        "!pip install --upgrade setuptools 2>&1\n",
        "!pip install ez_setup > /dev/null 2>&1\n",
        "!pip install gym[atari] > /dev/null 2>&1\n",
        "!pip install box2d-py > /dev/null 2>&1\n",
        "!pip install gym[Box_2D] > /dev/null 2>&1"
      ]
    },
    {
      "cell_type": "code",
      "execution_count": 98,
      "metadata": {
        "id": "NE1QQOVX27dp"
      },
      "outputs": [],
      "source": [
        "!pip install gym pyvirtualdisplay > /dev/null 2>&1\n",
        "!apt-get install -y xvfb python-opengl ffmpeg > /dev/null 2>&1"
      ]
    },
    {
      "cell_type": "markdown",
      "metadata": {
        "id": "QfTPg6uZckCm"
      },
      "source": [
        "Import openAI gym and define the functions used to show the video."
      ]
    },
    {
      "cell_type": "code",
      "execution_count": 99,
      "metadata": {
        "id": "JLl9cs6ncAf0"
      },
      "outputs": [],
      "source": [
        "import gym\n",
        "from gym.wrappers import Monitor\n",
        "import glob\n",
        "import io\n",
        "import base64\n",
        "from IPython.display import HTML\n",
        "from pyvirtualdisplay import Display\n",
        "from IPython import display as ipythondisplay\n",
        "\n",
        "display = Display(visible=0, size=(1400, 900))\n",
        "display.start()\n",
        "\n",
        "\"\"\"\n",
        "Utility functions to enable video recording of gym environment \n",
        "and displaying it.\n",
        "To enable video, just do \"env = wrap_env(env)\"\"\n",
        "\"\"\"\n",
        "\n",
        "def show_video():\n",
        "  mp4list = glob.glob('video/*.mp4')\n",
        "  if len(mp4list) > 0:\n",
        "    mp4 = mp4list[0]\n",
        "    video = io.open(mp4, 'r+b').read()\n",
        "    encoded = base64.b64encode(video)\n",
        "    ipythondisplay.display(HTML(data='''<video alt=\"test\" autoplay \n",
        "                loop controls style=\"height: 400px;\">\n",
        "                <source src=\"data:video/mp4;base64,{0}\" type=\"video/mp4\" />\n",
        "             </video>'''.format(encoded.decode('ascii'))))\n",
        "  else: \n",
        "    print(\"Could not find video\")\n",
        "    \n",
        "\n",
        "def wrap_env(env):\n",
        "  env = Monitor(env, './video', force=True)\n",
        "  return env"
      ]
    },
    {
      "cell_type": "markdown",
      "metadata": {
        "id": "UHkrflTWakKd"
      },
      "source": [
        "Import other packages:\n",
        "\n",
        "We will use Pytorch for building and learning our DQN network."
      ]
    },
    {
      "cell_type": "code",
      "execution_count": 100,
      "metadata": {
        "id": "9KvZYSl6RrzD"
      },
      "outputs": [],
      "source": [
        "import torch\n",
        "from torch import nn\n",
        "import copy\n",
        "from collections import deque\n",
        "import random\n",
        "from tqdm import tqdm\n",
        "import matplotlib.pyplot as plt\n",
        "\n",
        "random.seed(42)"
      ]
    },
    {
      "cell_type": "markdown",
      "metadata": {
        "id": "zrLGCk-3ditk"
      },
      "source": [
        "## Run the game with random agent."
      ]
    },
    {
      "cell_type": "code",
      "execution_count": 101,
      "metadata": {
        "colab": {
          "base_uri": "https://localhost:8080/",
          "height": 456
        },
        "id": "ZMcGALcWeWfh",
        "outputId": "d47244bc-c62c-4818-c019-5ccded8cb92f"
      },
      "outputs": [
        {
          "name": "stderr",
          "output_type": "stream",
          "text": [
            "100%|██████████| 20/20 [00:06<00:00,  2.87it/s]"
          ]
        },
        {
          "name": "stdout",
          "output_type": "stream",
          "text": [
            "average reward per episode : 22.5\n"
          ]
        },
        {
          "name": "stderr",
          "output_type": "stream",
          "text": [
            "\n"
          ]
        },
        {
          "data": {
            "text/html": [
              "<video alt=\"test\" autoplay \n",
              "                loop controls style=\"height: 400px;\">\n",
              "                <source src=\"data:video/mp4;base64,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\" type=\"video/mp4\" />\n",
              "             </video>"
            ],
            "text/plain": [
              "<IPython.core.display.HTML object>"
            ]
          },
          "metadata": {},
          "output_type": "display_data"
        }
      ],
      "source": [
        "from torch import randint\n",
        "from time import sleep\n",
        "\n",
        "env = wrap_env(gym.make('CartPole-v1'))\n",
        "reward_arr = []\n",
        "episode_count = 20\n",
        "for i in tqdm(range(episode_count)):\n",
        "    obs, done, rew = env.reset(), False, 0\n",
        "    env.render()\n",
        "    while not done:\n",
        "        A = randint(0, env.action_space.n, (1,))\n",
        "        obs, reward, done, info = env.step(A.item())\n",
        "        rew += reward\n",
        "        sleep(0.01)\n",
        "    reward_arr.append(rew)\n",
        "print(\"average reward per episode :\", sum(reward_arr) / len(reward_arr))\n",
        "env.close()\n",
        "show_video()"
      ]
    },
    {
      "cell_type": "markdown",
      "metadata": {
        "id": "Ope0zHAjfXQh"
      },
      "source": [
        "The episode ends when the pole is more than 15 degrees from vertical, or the cart moves more than 2.4 units from the center. The video is short (< 1s) because the pole loses balance immediately. \n",
        "\n",
        "You can see that a random agent is having trouble balancing the CartPole, just like you. However, a difficult game for human may be very simple to a computer. Let's see how we can use DQN to train a agent. "
      ]
    },
    {
      "cell_type": "markdown",
      "metadata": {
        "id": "OjP_2jn3SFgv"
      },
      "source": [
        "## Experience Replay\n",
        "\n",
        "The technique of experience replay was first proposed in to resolve temporal correlation in the input data by mixing recent experiences as well past experiences, essentially forcing the input to become independent and identically distributed (i.i.d.). It has been shown that this greatly stabilizes\n",
        "and improves the DQN training procedure."
      ]
    },
    {
      "cell_type": "code",
      "execution_count": 102,
      "metadata": {
        "id": "SoxW1Jlnk8mS"
      },
      "outputs": [],
      "source": [
        "class ExperienceReplay(object):\n",
        "      def __init__(self, length):\n",
        "        self.experience_replay = deque(maxlen=length)\n",
        "\n",
        "      def collect(self, experience):\n",
        "        self.experience_replay.append(experience)\n",
        "        return\n",
        "\n",
        "      def sample_from_experience(self, sample_size):\n",
        "        if len(self.experience_replay) < sample_size:\n",
        "            sample_size = len(self.experience_replay)\n",
        "        sample = random.sample(self.experience_replay, sample_size)\n",
        "        state = torch.tensor([exp[0] for exp in sample]).float()\n",
        "        action = torch.tensor([exp[1] for exp in sample]).float()\n",
        "        reward = torch.tensor([exp[2] for exp in sample]).float()\n",
        "        next_state = torch.tensor([exp[3] for exp in sample]).float()\n",
        "        return state, action, reward, next_state\n"
      ]
    },
    {
      "cell_type": "markdown",
      "metadata": {
        "id": "CgXwmV2im4Sx"
      },
      "source": [
        "## Build our DQN Network\n",
        "\n",
        "We will use a simple multi-layer neural network to learn the optimal actions. We will use Adam Optimizor and MSE loss for training. **Notice that the loss function and gamma is given to you in the class attribute.** "
      ]
    },
    {
      "cell_type": "code",
      "execution_count": 103,
      "metadata": {
        "id": "Wmd1pfuRm7MQ"
      },
      "outputs": [],
      "source": [
        "class DQN_Network:\n",
        "\n",
        "    def __init__(self, layer_size_list, lr, seed=1423):\n",
        "        torch.manual_seed(seed)\n",
        "        self.policy_net = self.create_network(layer_size_list)\n",
        "        self.target_net = copy.deepcopy(self.policy_net)\n",
        "  \n",
        "        self.loss_fn = torch.nn.MSELoss() # the loss function\n",
        "        self.optimizer = torch.optim.Adam(self.policy_net.parameters(), lr=lr)\n",
        "\n",
        "        self.step = 0\n",
        "        self.gamma = torch.tensor(0.95).float()\n",
        "        return\n",
        "\n",
        "    def create_network(self, layer_size_list):\n",
        "        assert len(layer_size_list) > 1\n",
        "\n",
        "        layers = []\n",
        "        for i in range(len(layer_size_list) - 1):\n",
        "            linear = nn.Linear(layer_size_list[i], layer_size_list[i + 1])\n",
        "\n",
        "            if i < len(layer_size_list) - 2:\n",
        "              activation = nn.Tanh()\n",
        "            else:\n",
        "              activation = nn.Identity()\n",
        "\n",
        "            layers += (linear, activation)\n",
        "        return nn.Sequential(*layers)\n",
        "\n",
        "    def load_pretrained_model(self, model_path):\n",
        "        self.policy_net.load_state_dict(torch.load(model_path))\n",
        "\n",
        "    def save_trained_model(self, model_path=\"cartpole-dqn.pth\"):\n",
        "        torch.save(self.policy_net.state_dict(), model_path)\n"
      ]
    },
    {
      "cell_type": "markdown",
      "metadata": {
        "id": "xKVV16YctASm"
      },
      "source": [
        "##  complete the function that chooses the next action\n",
        "\n",
        "Choose next action based on **$\\epsilon$-greedy**:\n",
        "\n",
        "\\begin{align}\\text{where} \\quad \\mathcal{a_{t+1}} = \\begin{cases}\n",
        "     \\text{argmax}_{a}Q(a, s)  & \\text{with probability }: 1 - \\epsilon, \\text{exploitation}\\\\\n",
        "     \\text{Uniform}\\{a_{1},...,a_{n}\\} & \\text{with probability}:   \\epsilon, \\text{exploration} \\\\\n",
        "   \\end{cases}\\end{align}"
      ]
    },
    {
      "cell_type": "code",
      "execution_count": 104,
      "metadata": {
        "id": "iE0gVweYs8xW"
      },
      "outputs": [],
      "source": [
        "def get_action(model, state, action_space_len, epsilon):\n",
        "    # We do not require gradient at this point, because this function will be used either\n",
        "    # during experience collection or during inference\n",
        "\n",
        "    with torch.no_grad():\n",
        "        Qp = model.policy_net(torch.from_numpy(state).float())\n",
        "\n",
        "    ## select and return action based on epsilon-greedy\n",
        "    Q_value, action = torch.max(Qp, axis = 0)\n",
        "\n",
        "    if torch.rand(1) > epsilon:\n",
        "      action = action\n",
        "    else:\n",
        "      action = torch.randint(action_space_len, (1,))\n",
        "\n",
        "    return action"
      ]
    },
    {
      "cell_type": "markdown",
      "metadata": {
        "id": "iF9a5-IbazjQ"
      },
      "source": [
        "###  complete the function that train the network for one step\n",
        "\n",
        "Here, you can find an ``train`` function that performs a\n",
        "single step of the optimization. \n",
        "\n",
        "For our training update rule, the loss you are trying to minimize is:\n",
        "\n",
        "\\begin{align}\\text{loss} = Q(s, a) - (r + \\gamma \\max_a Q(s', a))\\end{align}"
      ]
    },
    {
      "cell_type": "code",
      "execution_count": 105,
      "metadata": {
        "id": "mtx4FAiab0Hp"
      },
      "outputs": [],
      "source": [
        "def train(model, batch_size):\n",
        "    state, action, reward, next_state = memory.sample_from_experience(sample_size=batch_size)\n",
        "\n",
        "    #  predict expected return of current state using main network\n",
        "    exp_return = torch.max(model.policy_net(state), axis=1)[0]\n",
        "    \n",
        "    #  get target return using target network\n",
        "    Q_next = torch.max(model.target_net(next_state), axis=1)[0]\n",
        "    target_return = reward + model.gamma * Q_next\n",
        "\n",
        "    #  compute the loss\n",
        "    loss = model.loss_fn(exp_return, target_return)\n",
        "    model.optimizer.zero_grad()\n",
        "    loss.backward(retain_graph=True)\n",
        "    model.optimizer.step()\n",
        "\n",
        "    model.step += 1\n",
        "    if model.step % 5 == 0:\n",
        "        model.target_net.load_state_dict(model.policy_net.state_dict())\n",
        "\n",
        "    return loss.item()"
      ]
    },
    {
      "cell_type": "markdown",
      "metadata": {
        "id": "uskoe87Uz-Jg"
      },
      "source": [
        "### Finish the training loop\n",
        "\n",
        "In this part, you can play around with ```exp_replay_size```, ```episode```, ```epsilon``` and the \"episodo decay\" logic to train your model. **If you have done correctly, you will observe that the training time for the latter episodes is longer than the early episodes. This is because your agent is getting better and better at playing the game and thus each episode takes longer**"
      ]
    },
    {
      "cell_type": "code",
      "execution_count": 106,
      "metadata": {
        "colab": {
          "base_uri": "https://localhost:8080/"
        },
        "id": "3NfNnyD6SPpN",
        "outputId": "588b6e01-a8a0-47aa-e7d6-287689e7115f"
      },
      "outputs": [
        {
          "name": "stderr",
          "output_type": "stream",
          "text": [
            "100%|██████████| 10000/10000 [03:06<00:00, 53.74it/s]"
          ]
        },
        {
          "name": "stdout",
          "output_type": "stream",
          "text": [
            "Saving trained model\n"
          ]
        },
        {
          "name": "stderr",
          "output_type": "stream",
          "text": [
            "\n"
          ]
        }
      ],
      "source": [
        "# Create the model\n",
        "env = gym.make('CartPole-v0')\n",
        "input_dim = env.observation_space.shape[0]\n",
        "output_dim = env.action_space.n\n",
        "agent = DQN_Network(layer_size_list=[input_dim, 64, output_dim], lr=1e-3)\n",
        "\n",
        "# Main training loop\n",
        "losses_list, reward_list, episode_len_list, epsilon_list = [], [], [], []\n",
        "\n",
        "#  try different values, it normally takes more than 6k episodes to train\n",
        "exp_replay_size = 500\n",
        "memory = ExperienceReplay(exp_replay_size)\n",
        "episodes = 10000\n",
        "epsilon = 1 # episilon start from 1 and decay gradually. \n",
        "\n",
        "# initiliaze experiance replay\n",
        "index = 0\n",
        "for i in range(exp_replay_size):\n",
        "    obs = env.reset()\n",
        "    done = False\n",
        "    while not done:\n",
        "        A = get_action(agent, obs, env.action_space.n, epsilon=1)\n",
        "        obs_next, reward, done, _ = env.step(A.item())\n",
        "        memory.collect([obs, A.item(), reward, obs_next])\n",
        "        obs = obs_next\n",
        "        index += 1\n",
        "        if index > exp_replay_size:\n",
        "            break\n",
        "\n",
        "index = 128\n",
        "for i in tqdm(range(episodes)):\n",
        "    obs, done, losses, ep_len, rew = env.reset(), False, 0, 0, 0\n",
        "    while not done:\n",
        "        ep_len += 1\n",
        "        A = get_action(agent, obs, env.action_space.n, epsilon)\n",
        "        obs_next, reward, done, _ = env.step(A.item())\n",
        "        memory.collect([obs, A.item(), reward, obs_next])\n",
        "\n",
        "        obs = obs_next\n",
        "        rew += reward\n",
        "        index += 1\n",
        "\n",
        "        if index > 128:\n",
        "            index = 0\n",
        "            for j in range(4):\n",
        "                loss = train(agent, batch_size=16)\n",
        "                losses += loss\n",
        "    \n",
        "    #  add epsilon decay rule here \n",
        "    \n",
        "    epsilon = epsilon * 0.95\n",
        "    losses_list.append(losses / ep_len), reward_list.append(rew)\n",
        "    episode_len_list.append(ep_len), epsilon_list.append(epsilon)\n",
        "\n",
        "print(\"Saving trained model\")\n",
        "agent.save_trained_model(\"cartpole-dqn.pth\")"
      ]
    },
    {
      "cell_type": "markdown",
      "metadata": {
        "id": "CCow7jNXf5YT"
      },
      "source": [
        "## Last Step: evaluate your trained model\n",
        "\n",
        "First we can plot the reward vs. episode. "
      ]
    },
    {
      "cell_type": "code",
      "execution_count": 107,
      "metadata": {
        "colab": {
          "base_uri": "https://localhost:8080/",
          "height": 295
        },
        "id": "-Hy_FP7yeXA4",
        "outputId": "b5874762-df38-4d42-c35a-ef0bf11583b5"
      },
      "outputs": [
        {
          "data": {
            "image/png": "[encoded data removed]",
            "text/plain": [
              "<Figure size 432x288 with 1 Axes>"
            ]
          },
          "metadata": {
            "needs_background": "light"
          },
          "output_type": "display_data"
        }
      ],
      "source": [
        "def plot_reward(r):\n",
        "    plt.figure(2)\n",
        "    plt.clf()\n",
        "    plt.title('Result')\n",
        "    plt.xlabel('Episode')\n",
        "    plt.ylabel('Reward')\n",
        "    plt.plot(r)\n",
        "\n",
        "plot_reward(reward_list)"
      ]
    },
    {
      "cell_type": "markdown",
      "metadata": {
        "id": "EixOpGakoyi4"
      },
      "source": [
        "Next let check out how well your agent plays the game. **If you have done correctly, you should see a relatively longer video (> 3~4s) with a self-balancing pole.**"
      ]
    },
    {
      "cell_type": "code",
      "execution_count": 108,
      "metadata": {
        "colab": {
          "base_uri": "https://localhost:8080/",
          "height": 456
        },
        "id": "EMEivKldTGVG",
        "outputId": "15cca81a-5430-40f2-9814-3abe725611b2"
      },
      "outputs": [
        {
          "name": "stderr",
          "output_type": "stream",
          "text": [
            "100%|██████████| 200/200 [00:49<00:00,  4.05it/s]"
          ]
        },
        {
          "name": "stdout",
          "output_type": "stream",
          "text": [
            "average reward per episode : 471.17\n"
          ]
        },
        {
          "name": "stderr",
          "output_type": "stream",
          "text": [
            "\n"
          ]
        },
        {
          "data": {
            "text/html": [
              "<video alt=\"test\" autoplay \n",
              "                loop controls style=\"height: 400px;\">\n",
              "                <source src=\"data:video/mp4;base64,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\" type=\"video/mp4\" />\n",
              "             </video>"
            ],
            "text/plain": [
              "<IPython.core.display.HTML object>"
            ]
          },
          "metadata": {},
          "output_type": "display_data"
        }
      ],
      "source": [
        "env = wrap_env(gym.make('CartPole-v1'))\n",
        "\n",
        "input_dim = env.observation_space.shape[0]\n",
        "output_dim = env.action_space.n\n",
        "model_validate = DQN_Network(layer_size_list=[input_dim, 64, output_dim], lr=1e-3)\n",
        "model_validate.load_pretrained_model(\"cartpole-dqn.pth\")\n",
        "\n",
        "reward_arr = []\n",
        "for i in tqdm(range(200)):\n",
        "    obs, done, rew = env.reset(), False, 0\n",
        "    env.render()\n",
        "    while not done:\n",
        "        A = get_action(model_validate, obs, env.action_space.n, epsilon=0)\n",
        "        obs, reward, done, info = env.step(A.item())\n",
        "        rew += reward\n",
        "        # sleep(0.01)\n",
        "\n",
        "    reward_arr.append(rew)\n",
        "print(\"average reward per episode :\", sum(reward_arr) / len(reward_arr))\n",
        "env.close()\n",
        "show_video()"
      ]
    }
  ],
  "metadata": {
    "accelerator": "GPU",
    "colab": {
      "collapsed_sections": [],
      "name": "Copy of a4_dqn.ipynb",
      "provenance": []
    },
    "kernelspec": {
      "display_name": "Python 3",
      "name": "python3"
    }
  },
  "nbformat": 4,
  "nbformat_minor": 0
}
